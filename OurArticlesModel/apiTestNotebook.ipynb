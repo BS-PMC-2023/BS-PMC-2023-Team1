{
 "cells": [
  {
   "cell_type": "markdown",
   "source": [
    "# GoogleNews"
   ],
   "metadata": {
    "collapsed": false,
    "pycharm": {
     "name": "#%% md\n"
    }
   }
  },
  {
   "cell_type": "code",
   "execution_count": 1,
   "outputs": [],
   "source": [
    "from GoogleNews import GoogleNews as g\n",
    "import pandas as pd\n",
    "import newspaper"
   ],
   "metadata": {
    "collapsed": false,
    "pycharm": {
     "name": "#%%\n"
    }
   }
  },
  {
   "cell_type": "code",
   "execution_count": 2,
   "outputs": [],
   "source": [
    "def findArticles(query: str = None, language: str = \"en\"):\n",
    "    \"\"\" Given a query, find and return the relevant articles from Google News.\n",
    "\n",
    "    :param language:        The language of the articles.\n",
    "    :param query:           Search query.\n",
    "    :return:                A dataframe of the articles, with the columns:\n",
    "                            ['title', 'media', 'date', 'datetime', 'desc', 'link', 'img']\n",
    "    \"\"\"\n",
    "\n",
    "    def getContent(link):\n",
    "        \"\"\" Given a link to a specific article, return the content of it (text).\n",
    "\n",
    "        :param link:        The link for the article.\n",
    "        :return:            Article's content, as text.\n",
    "        \"\"\"\n",
    "\n",
    "        article = newspaper.Article(link)\n",
    "        article.download()\n",
    "        article.parse()\n",
    "\n",
    "        return [article.text, article.top_img]\n",
    "\n",
    "    # Find Articles\n",
    "    gn = g(lang=language, period='1d')\n",
    "    gn.search(query)\n",
    "    df = pd.DataFrame(gn.page_at(1))\n",
    "\n",
    "    # Merge content\n",
    "    df[['content', 'img']] = df['link'].apply(lambda l: getContent(l)).to_list()\n",
    "\n",
    "    # Clear GoogleNews engine\n",
    "    gn.clear()\n",
    "\n",
    "    return df[['title', 'desc', 'content', 'media', 'link', 'img', 'date', 'datetime']]"
   ],
   "metadata": {
    "collapsed": false,
    "pycharm": {
     "name": "#%%\n"
    }
   }
  },
  {
   "cell_type": "code",
   "execution_count": 3,
   "outputs": [],
   "source": [
    "df = findArticles(\"Sports\")"
   ],
   "metadata": {
    "collapsed": false,
    "pycharm": {
     "name": "#%%\n"
    }
   }
  },
  {
   "cell_type": "code",
   "execution_count": 7,
   "outputs": [
    {
     "data": {
      "text/plain": "                                               title  \\\n0                  CAA Golf Weekly Awards - April 12   \n1  RBC Heritage 2023 prop bets, golf odds, field,...   \n2  Bucks' Giannis Antetokounmpo reveals he was 'r...   \n3  Giants' Saquon Barkley reportedly not signing ...   \n4  Andrew Wiggins expectations for Warriors-Kings...   \n\n                                                desc  \\\n0  RICHMOND, Va. (April 12, 2023) – UNCW junior W...   \n1  Mike McClure studied the PGA Tour odds and loc...   \n2  Antetokounmpo apparently considered leaving th...   \n3  New York Giants running back Saquon Barkley wi...   \n4  \"I would expect that Wiggins will be ready to ...   \n\n                                             content  \\\n0  CAA Golf Weekly Awards - April 12\\n\\nMEN’S GOL...   \n1  With a new Masters champion crowned, the PGA T...   \n2  Milwaukee Bucks superstar Giannis Antetokounmp...   \n3  National Football League Giants' Saquon Barkle...   \n4  Andrew Wiggins, arguably the Warriors' second-...   \n\n                           media  \\\n0  Colonial Athletic Association   \n1                     CBS Sports   \n2                     CBS Sports   \n3                     FOX Sports   \n4                     NBC Sports   \n\n                                                link  \\\n0  https://caasports.com/news/2023/4/12/caa-golf-...   \n1  https://www.cbssports.com/golf/news/rbc-herita...   \n2  https://www.cbssports.com/nba/news/bucks-giann...   \n3  https://www.foxsports.com/stories/nfl/giants-s...   \n4  https://www.nbcsports.com/bayarea/warriors/and...   \n\n                                                 img        date  \\\n0  https://caasports.com/images/2023/4/12/Chiteng...  2 mins ago   \n1  https://sportshub.cbsistatic.com/i/r/2023/04/1...  3 mins ago   \n2  https://sportshub.cbsistatic.com/i/r/2023/04/1...  5 mins ago   \n3  https://a57.foxsports.com/statics.foxsports.co...  4 mins ago   \n4  https://www.nbcsports.com/sites/rsnunited/file...  1 hour ago   \n\n                    datetime  \n0 2023-04-12 19:25:06.046580  \n1 2023-04-12 19:24:06.046580  \n2 2023-04-12 19:22:06.046580  \n3 2023-04-12 19:23:06.046580  \n4 2023-04-12 18:27:06.062226  ",
      "text/html": "<div>\n<style scoped>\n    .dataframe tbody tr th:only-of-type {\n        vertical-align: middle;\n    }\n\n    .dataframe tbody tr th {\n        vertical-align: top;\n    }\n\n    .dataframe thead th {\n        text-align: right;\n    }\n</style>\n<table border=\"1\" class=\"dataframe\">\n  <thead>\n    <tr style=\"text-align: right;\">\n      <th></th>\n      <th>title</th>\n      <th>desc</th>\n      <th>content</th>\n      <th>media</th>\n      <th>link</th>\n      <th>img</th>\n      <th>date</th>\n      <th>datetime</th>\n    </tr>\n  </thead>\n  <tbody>\n    <tr>\n      <th>0</th>\n      <td>CAA Golf Weekly Awards - April 12</td>\n      <td>RICHMOND, Va. (April 12, 2023) – UNCW junior W...</td>\n      <td>CAA Golf Weekly Awards - April 12\\n\\nMEN’S GOL...</td>\n      <td>Colonial Athletic Association</td>\n      <td>https://caasports.com/news/2023/4/12/caa-golf-...</td>\n      <td>https://caasports.com/images/2023/4/12/Chiteng...</td>\n      <td>2 mins ago</td>\n      <td>2023-04-12 19:25:06.046580</td>\n    </tr>\n    <tr>\n      <th>1</th>\n      <td>RBC Heritage 2023 prop bets, golf odds, field,...</td>\n      <td>Mike McClure studied the PGA Tour odds and loc...</td>\n      <td>With a new Masters champion crowned, the PGA T...</td>\n      <td>CBS Sports</td>\n      <td>https://www.cbssports.com/golf/news/rbc-herita...</td>\n      <td>https://sportshub.cbsistatic.com/i/r/2023/04/1...</td>\n      <td>3 mins ago</td>\n      <td>2023-04-12 19:24:06.046580</td>\n    </tr>\n    <tr>\n      <th>2</th>\n      <td>Bucks' Giannis Antetokounmpo reveals he was 'r...</td>\n      <td>Antetokounmpo apparently considered leaving th...</td>\n      <td>Milwaukee Bucks superstar Giannis Antetokounmp...</td>\n      <td>CBS Sports</td>\n      <td>https://www.cbssports.com/nba/news/bucks-giann...</td>\n      <td>https://sportshub.cbsistatic.com/i/r/2023/04/1...</td>\n      <td>5 mins ago</td>\n      <td>2023-04-12 19:22:06.046580</td>\n    </tr>\n    <tr>\n      <th>3</th>\n      <td>Giants' Saquon Barkley reportedly not signing ...</td>\n      <td>New York Giants running back Saquon Barkley wi...</td>\n      <td>National Football League Giants' Saquon Barkle...</td>\n      <td>FOX Sports</td>\n      <td>https://www.foxsports.com/stories/nfl/giants-s...</td>\n      <td>https://a57.foxsports.com/statics.foxsports.co...</td>\n      <td>4 mins ago</td>\n      <td>2023-04-12 19:23:06.046580</td>\n    </tr>\n    <tr>\n      <th>4</th>\n      <td>Andrew Wiggins expectations for Warriors-Kings...</td>\n      <td>\"I would expect that Wiggins will be ready to ...</td>\n      <td>Andrew Wiggins, arguably the Warriors' second-...</td>\n      <td>NBC Sports</td>\n      <td>https://www.nbcsports.com/bayarea/warriors/and...</td>\n      <td>https://www.nbcsports.com/sites/rsnunited/file...</td>\n      <td>1 hour ago</td>\n      <td>2023-04-12 18:27:06.062226</td>\n    </tr>\n  </tbody>\n</table>\n</div>"
     },
     "execution_count": 7,
     "metadata": {},
     "output_type": "execute_result"
    }
   ],
   "source": [
    "df.head()"
   ],
   "metadata": {
    "collapsed": false,
    "pycharm": {
     "name": "#%%\n"
    }
   }
  },
  {
   "cell_type": "code",
   "execution_count": 11,
   "outputs": [
    {
     "data": {
      "text/plain": "(10, 8)"
     },
     "execution_count": 11,
     "metadata": {},
     "output_type": "execute_result"
    }
   ],
   "source": [
    "df.shape"
   ],
   "metadata": {
    "collapsed": false,
    "pycharm": {
     "name": "#%%\n"
    }
   }
  },
  {
   "cell_type": "code",
   "execution_count": 25,
   "outputs": [],
   "source": [
    "news = g(lang=\"en\", period=\"1d\")\n",
    "news.search(\"Sports\")"
   ],
   "metadata": {
    "collapsed": false,
    "pycharm": {
     "name": "#%%\n"
    }
   }
  },
  {
   "cell_type": "code",
   "execution_count": 37,
   "outputs": [],
   "source": [
    "dfs = [pd.DataFrame(news.page_at(i)) for i in range(1, 14)]"
   ],
   "metadata": {
    "collapsed": false,
    "pycharm": {
     "name": "#%%\n"
    }
   }
  },
  {
   "cell_type": "code",
   "execution_count": 40,
   "outputs": [],
   "source": [
    "articles = pd.concat(dfs).reset_index()"
   ],
   "metadata": {
    "collapsed": false,
    "pycharm": {
     "name": "#%%\n"
    }
   }
  },
  {
   "cell_type": "code",
   "execution_count": 42,
   "outputs": [
    {
     "data": {
      "text/plain": "(130, 8)"
     },
     "execution_count": 42,
     "metadata": {},
     "output_type": "execute_result"
    }
   ],
   "source": [
    "articles.shape"
   ],
   "metadata": {
    "collapsed": false,
    "pycharm": {
     "name": "#%%\n"
    }
   }
  },
  {
   "cell_type": "code",
   "execution_count": 43,
   "outputs": [
    {
     "data": {
      "text/plain": "     index                                              title  \\\n0        0  Forest Green Rovers rank top of English Footba...   \n1        1  Jason Smyth: Paralympic sport's fastest man re...   \n2        2  Carla Ward: WSL title race will go right to th...   \n3        3  Dave Kindred among Kentucky Journalism Hall of...   \n4        4  Gunshots fired during shootout between sports ...   \n..     ...                                                ...   \n125      5  Amid Lamar Jackson trade request, Colts owner ...   \n126      6  Canada vs. Honduras odds, picks, how to watch,...   \n127      7  Scotland v Spain: Ryan Christie and Scott McTo...   \n128      8  Young Sports Volunteers Inspire at Belfast Cit...   \n129      9          HS sports recap: Spartans baseball wins 2   \n\n               media          date                   datetime  \\\n0         Sky Sports   51 mins ago                        NaT   \n1                BBC   59 mins ago                        NaT   \n2         Sky Sports    1 hour ago 2023-03-29 13:00:58.642336   \n3    Courier-Journal    1 hour ago 2023-03-29 13:00:58.642336   \n4      FOX 5 Atlanta    1 hour ago 2023-03-29 13:00:58.642336   \n..               ...           ...                        ...   \n125       CBS Sports  21 hours ago 2023-03-28 17:01:16.619419   \n126       CBS Sports  21 hours ago 2023-03-28 17:01:16.619419   \n127              BBC  21 hours ago 2023-03-28 17:01:16.619419   \n128     Ulster Rugby  22 hours ago 2023-03-28 16:01:16.619419   \n129   Village Living  22 hours ago 2023-03-28 16:01:16.619419   \n\n                                                  desc  \\\n0    Sport Positive Leagues has collated a large cr...   \n1    Ireland's Jason Smyth, Paralympic sport's fast...   \n2    Aston Villa women's manager Carla Ward expects...   \n3    Renown sportswriter Dave Kindred, who will be ...   \n4    Police are searching for multiple gunmen conne...   \n..                                                 ...   \n125  We may be in the middle of the offseason, but ...   \n126  Soccer best bets for Tuesday's Honduras vs. Ca...   \n127  Ryan Christie and Scott McTominay are backed i...   \n128  Young sports volunteers from across Ulster too...   \n129  Here's a look back at the last week in Mountai...   \n\n                                                  link  \\\n0    https://www.skysports.com/football/news/11095/...   \n1    https://www.bbc.com/sport/disability-sport/651...   \n2    https://www.skysports.com/watch/video/sports/f...   \n3    https://www.courier-journal.com/story/sports/2...   \n4    https://www.fox5atlanta.com/news/gunshots-fire...   \n..                                                 ...   \n125  https://www.cbssports.com/nfl/news/amid-lamar-...   \n126  https://www.cbssports.com/soccer/news/canada-v...   \n127        https://www.bbc.com/sport/football/65101210   \n128              https://ulster.rugby/content/siawards   \n129  https://www.villagelivingonline.com/sports/hs-...   \n\n                                                   img  \n0    data:image/gif;base64,R0lGODlhAQABAIAAAP//////...  \n1    data:image/gif;base64,R0lGODlhAQABAIAAAP//////...  \n2    data:image/gif;base64,R0lGODlhAQABAIAAAP//////...  \n3    data:image/gif;base64,R0lGODlhAQABAIAAAP//////...  \n4    data:image/gif;base64,R0lGODlhAQABAIAAAP//////...  \n..                                                 ...  \n125  data:image/gif;base64,R0lGODlhAQABAIAAAP//////...  \n126  data:image/gif;base64,R0lGODlhAQABAIAAAP//////...  \n127  data:image/gif;base64,R0lGODlhAQABAIAAAP//////...  \n128  data:image/gif;base64,R0lGODlhAQABAIAAAP//////...  \n129  data:image/gif;base64,R0lGODlhAQABAIAAAP//////...  \n\n[130 rows x 8 columns]",
      "text/html": "<div>\n<style scoped>\n    .dataframe tbody tr th:only-of-type {\n        vertical-align: middle;\n    }\n\n    .dataframe tbody tr th {\n        vertical-align: top;\n    }\n\n    .dataframe thead th {\n        text-align: right;\n    }\n</style>\n<table border=\"1\" class=\"dataframe\">\n  <thead>\n    <tr style=\"text-align: right;\">\n      <th></th>\n      <th>index</th>\n      <th>title</th>\n      <th>media</th>\n      <th>date</th>\n      <th>datetime</th>\n      <th>desc</th>\n      <th>link</th>\n      <th>img</th>\n    </tr>\n  </thead>\n  <tbody>\n    <tr>\n      <th>0</th>\n      <td>0</td>\n      <td>Forest Green Rovers rank top of English Footba...</td>\n      <td>Sky Sports</td>\n      <td>51 mins ago</td>\n      <td>NaT</td>\n      <td>Sport Positive Leagues has collated a large cr...</td>\n      <td>https://www.skysports.com/football/news/11095/...</td>\n      <td>data:image/gif;base64,R0lGODlhAQABAIAAAP//////...</td>\n    </tr>\n    <tr>\n      <th>1</th>\n      <td>1</td>\n      <td>Jason Smyth: Paralympic sport's fastest man re...</td>\n      <td>BBC</td>\n      <td>59 mins ago</td>\n      <td>NaT</td>\n      <td>Ireland's Jason Smyth, Paralympic sport's fast...</td>\n      <td>https://www.bbc.com/sport/disability-sport/651...</td>\n      <td>data:image/gif;base64,R0lGODlhAQABAIAAAP//////...</td>\n    </tr>\n    <tr>\n      <th>2</th>\n      <td>2</td>\n      <td>Carla Ward: WSL title race will go right to th...</td>\n      <td>Sky Sports</td>\n      <td>1 hour ago</td>\n      <td>2023-03-29 13:00:58.642336</td>\n      <td>Aston Villa women's manager Carla Ward expects...</td>\n      <td>https://www.skysports.com/watch/video/sports/f...</td>\n      <td>data:image/gif;base64,R0lGODlhAQABAIAAAP//////...</td>\n    </tr>\n    <tr>\n      <th>3</th>\n      <td>3</td>\n      <td>Dave Kindred among Kentucky Journalism Hall of...</td>\n      <td>Courier-Journal</td>\n      <td>1 hour ago</td>\n      <td>2023-03-29 13:00:58.642336</td>\n      <td>Renown sportswriter Dave Kindred, who will be ...</td>\n      <td>https://www.courier-journal.com/story/sports/2...</td>\n      <td>data:image/gif;base64,R0lGODlhAQABAIAAAP//////...</td>\n    </tr>\n    <tr>\n      <th>4</th>\n      <td>4</td>\n      <td>Gunshots fired during shootout between sports ...</td>\n      <td>FOX 5 Atlanta</td>\n      <td>1 hour ago</td>\n      <td>2023-03-29 13:00:58.642336</td>\n      <td>Police are searching for multiple gunmen conne...</td>\n      <td>https://www.fox5atlanta.com/news/gunshots-fire...</td>\n      <td>data:image/gif;base64,R0lGODlhAQABAIAAAP//////...</td>\n    </tr>\n    <tr>\n      <th>...</th>\n      <td>...</td>\n      <td>...</td>\n      <td>...</td>\n      <td>...</td>\n      <td>...</td>\n      <td>...</td>\n      <td>...</td>\n      <td>...</td>\n    </tr>\n    <tr>\n      <th>125</th>\n      <td>5</td>\n      <td>Amid Lamar Jackson trade request, Colts owner ...</td>\n      <td>CBS Sports</td>\n      <td>21 hours ago</td>\n      <td>2023-03-28 17:01:16.619419</td>\n      <td>We may be in the middle of the offseason, but ...</td>\n      <td>https://www.cbssports.com/nfl/news/amid-lamar-...</td>\n      <td>data:image/gif;base64,R0lGODlhAQABAIAAAP//////...</td>\n    </tr>\n    <tr>\n      <th>126</th>\n      <td>6</td>\n      <td>Canada vs. Honduras odds, picks, how to watch,...</td>\n      <td>CBS Sports</td>\n      <td>21 hours ago</td>\n      <td>2023-03-28 17:01:16.619419</td>\n      <td>Soccer best bets for Tuesday's Honduras vs. Ca...</td>\n      <td>https://www.cbssports.com/soccer/news/canada-v...</td>\n      <td>data:image/gif;base64,R0lGODlhAQABAIAAAP//////...</td>\n    </tr>\n    <tr>\n      <th>127</th>\n      <td>7</td>\n      <td>Scotland v Spain: Ryan Christie and Scott McTo...</td>\n      <td>BBC</td>\n      <td>21 hours ago</td>\n      <td>2023-03-28 17:01:16.619419</td>\n      <td>Ryan Christie and Scott McTominay are backed i...</td>\n      <td>https://www.bbc.com/sport/football/65101210</td>\n      <td>data:image/gif;base64,R0lGODlhAQABAIAAAP//////...</td>\n    </tr>\n    <tr>\n      <th>128</th>\n      <td>8</td>\n      <td>Young Sports Volunteers Inspire at Belfast Cit...</td>\n      <td>Ulster Rugby</td>\n      <td>22 hours ago</td>\n      <td>2023-03-28 16:01:16.619419</td>\n      <td>Young sports volunteers from across Ulster too...</td>\n      <td>https://ulster.rugby/content/siawards</td>\n      <td>data:image/gif;base64,R0lGODlhAQABAIAAAP//////...</td>\n    </tr>\n    <tr>\n      <th>129</th>\n      <td>9</td>\n      <td>HS sports recap: Spartans baseball wins 2</td>\n      <td>Village Living</td>\n      <td>22 hours ago</td>\n      <td>2023-03-28 16:01:16.619419</td>\n      <td>Here's a look back at the last week in Mountai...</td>\n      <td>https://www.villagelivingonline.com/sports/hs-...</td>\n      <td>data:image/gif;base64,R0lGODlhAQABAIAAAP//////...</td>\n    </tr>\n  </tbody>\n</table>\n<p>130 rows × 8 columns</p>\n</div>"
     },
     "execution_count": 43,
     "metadata": {},
     "output_type": "execute_result"
    }
   ],
   "source": [
    "articles"
   ],
   "metadata": {
    "collapsed": false,
    "pycharm": {
     "name": "#%%\n"
    }
   }
  },
  {
   "cell_type": "code",
   "execution_count": null,
   "outputs": [],
   "source": [],
   "metadata": {
    "collapsed": false,
    "pycharm": {
     "name": "#%%\n"
    }
   }
  }
 ],
 "metadata": {
  "kernelspec": {
   "display_name": "Python 3",
   "language": "python",
   "name": "python3"
  },
  "language_info": {
   "codemirror_mode": {
    "name": "ipython",
    "version": 2
   },
   "file_extension": ".py",
   "mimetype": "text/x-python",
   "name": "python",
   "nbconvert_exporter": "python",
   "pygments_lexer": "ipython2",
   "version": "2.7.6"
  }
 },
 "nbformat": 4,
 "nbformat_minor": 0
}